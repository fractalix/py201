{
 "cells": [
  {
   "cell_type": "markdown",
   "metadata": {},
   "source": [
    "[![imagenes/pythonista.png](imagenes/pythonista.png)](https://pythonista.io)"
   ]
  },
  {
   "cell_type": "markdown",
   "metadata": {},
   "source": [
    "## Temario \n",
    "\n",
    "1. Acceso a un repositorio mediante Git. \n",
    "* Introducción a HTTP.\n",
    "* El 'Hola, Mundo' de Flask.\n",
    "* Flask a detalle.\n",
    "* Introducción a Jinja2.\n",
    "* Archivos JSON.\n",
    "* Ejemplo de uso de JSON y Jinja2 con Flask.\n",
    "* Gestion de formas.\n",
    "* Algunas funcionalidades útiles de Flask.\n",
    "* Desarrollo de una aplicación web básica.\n",
    "* Desarrollo de un servidor de una API basada REST.\n",
    "* Cliente de la API basada en REST.\n",
    "* Extensiones de Flask para manejo de CSS.\n",
    "* La extension Flask-SQLAlchemy."
   ]
  },
  {
   "cell_type": "markdown",
   "metadata": {},
   "source": [
    "<p style=\"text-align: center\"><a rel=\"license\" href=\"http://creativecommons.org/licenses/by/4.0/\"><img alt=\"Licencia Creative Commons\" style=\"border-width:0\" src=\"https://i.creativecommons.org/l/by/4.0/80x15.png\" /></a><br />Esta obra está bajo una <a rel=\"license\" href=\"http://creativecommons.org/licenses/by/4.0/\">Licencia Creative Commons Atribución 4.0 Internacional</a>.</p>\n",
    "<p style=\"text-align: center\">&copy; José Luis Chiquete Valdivieso. 2018.</p>"
   ]
  }
 ],
 "metadata": {
  "kernelspec": {
   "display_name": "Python 3",
   "language": "python",
   "name": "python3"
  },
  "language_info": {
   "codemirror_mode": {
    "name": "ipython",
    "version": 3
   },
   "file_extension": ".py",
   "mimetype": "text/x-python",
   "name": "python",
   "nbconvert_exporter": "python",
   "pygments_lexer": "ipython3",
   "version": "3.6.4"
  }
 },
 "nbformat": 4,
 "nbformat_minor": 2
}
