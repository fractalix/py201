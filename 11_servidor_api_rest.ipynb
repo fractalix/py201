{
 "cells": [
  {
   "cell_type": "markdown",
   "metadata": {},
   "source": [
    "[![pythonista](imagenes/pythonista.png)](https://pythonista.io)"
   ]
  },
  {
   "cell_type": "markdown",
   "metadata": {},
   "source": [
    "En este capítulo se levantará un servidor utilizando Flask, el cual a su vez, manipulará los datos básicos de un sistema de alumnos a partir  del campo *'Cuenta'*."
   ]
  },
  {
   "cell_type": "markdown",
   "metadata": {},
   "source": [
    "# Módulos y datos requeridos."
   ]
  },
  {
   "cell_type": "code",
   "execution_count": null,
   "metadata": {},
   "outputs": [],
   "source": [
    "from flask import Flask, jsonify, request, abort\n",
    "from data import ruta, campos, orden\n",
    "from json import loads"
   ]
  },
  {
   "cell_type": "markdown",
   "metadata": {},
   "source": [
    "# Definición de funciones."
   ]
  },
  {
   "cell_type": "markdown",
   "metadata": {},
   "source": [
    "## Funciones de gestión de la base de datos.\n",
    "\n",
    "En este caso la base de datos no es otra cosa más que un archivo de texto quie representa a un objeto de tipo *list* de Python. \n",
    "\n",
    "La base de datos puede ser consultada en [data/alumnos.txt](data/alumnos.txt). "
   ]
  },
  {
   "cell_type": "markdown",
   "metadata": {},
   "source": [
    "### Función de carga de datos."
   ]
  },
  {
   "cell_type": "code",
   "execution_count": null,
   "metadata": {},
   "outputs": [],
   "source": [
    "def carga_base(ruta):\n",
    "    with open(ruta, 'tr') as base:\n",
    "        return eval(base.read())"
   ]
  },
  {
   "cell_type": "markdown",
   "metadata": {},
   "source": [
    "### Función de escritura de datos."
   ]
  },
  {
   "cell_type": "code",
   "execution_count": null,
   "metadata": {},
   "outputs": [],
   "source": [
    "def escribe_base(lista ,ruta):\n",
    "    with open(ruta, 'wt') as base:\n",
    "            base.write(str(lista))"
   ]
  },
  {
   "cell_type": "markdown",
   "metadata": {},
   "source": [
    "### Función de búsqueda en la base de datos.\n",
    "* Busca dentro del campo *'Cuenta'* de cada elemento de *base* al número entero correspondiente al argumento de *cuenta*.\n",
    "* En caso de encontrar una coincidencia, regresa al elemento.\n",
    "* En caso de no encontrar coincidencia regresa *False*."
   ]
  },
  {
   "cell_type": "code",
   "execution_count": null,
   "metadata": {},
   "outputs": [],
   "source": [
    "def busca_base(cuenta, base):\n",
    "    for alumno in base:\n",
    "        try:\n",
    "            if alumno['Cuenta'] == int(cuenta):\n",
    "                return alumno\n",
    "        except:\n",
    "            return False\n",
    "    return False"
   ]
  },
  {
   "cell_type": "markdown",
   "metadata": {},
   "source": [
    "## Funciones de validación de datos."
   ]
  },
  {
   "cell_type": "markdown",
   "metadata": {},
   "source": [
    "### Función que valida el tipo de dato."
   ]
  },
  {
   "cell_type": "code",
   "execution_count": null,
   "metadata": {},
   "outputs": [],
   "source": [
    "def es_tipo(dato, tipo):\n",
    "    if tipo == str:\n",
    "        return True\n",
    "    else:\n",
    "        try: \n",
    "            return tipo(dato) is dato\n",
    "        except:\n",
    "            return False"
   ]
  },
  {
   "cell_type": "markdown",
   "metadata": {},
   "source": [
    "### Función que valida las reglas de los datos.\n",
    "* Los campos *'Nombre\"* y *'Primer Apellido'* no deben de ser una cadena de caracteres vacía.\n",
    "* El campo 'Semestre' debe de ser un entero mayor a 1.\n",
    "* La cadena de caracteres del campo 'Carrera' debe de estar dentro de las cadenas listadas en *carrera*.\n",
    "* El campo promedio debe de ser un número entre 0 y 10."
   ]
  },
  {
   "cell_type": "code",
   "execution_count": null,
   "metadata": {},
   "outputs": [],
   "source": [
    "def reglas(dato, campo):\n",
    "    from data import carreras\n",
    "    if campo == \"Carrera\" and dato not in carreras:\n",
    "        return False\n",
    "    elif campo == \"Semestre\" and dato < 1:\n",
    "        return False\n",
    "    elif campo == \"Promedio\" and (dato < 0 or dato > 10):\n",
    "        return False\n",
    "    elif (campo in (\"Nombre\", \"Primer Apellido\") and (dato == \"\")):\n",
    "        return False\n",
    "    else:\n",
    "        return True           "
   ]
  },
  {
   "cell_type": "markdown",
   "metadata": {},
   "source": [
    "### Función de validación de tipos y reglas."
   ]
  },
  {
   "cell_type": "code",
   "execution_count": null,
   "metadata": {},
   "outputs": [],
   "source": [
    "def valida(dato, campo):\n",
    "    return es_tipo(dato, campos[campo][0]) and reglas(dato, campo)"
   ]
  },
  {
   "cell_type": "markdown",
   "metadata": {},
   "source": [
    "### Función que valida que el mensaje contiene todos los campos obligatorios."
   ]
  },
  {
   "cell_type": "code",
   "execution_count": null,
   "metadata": {},
   "outputs": [],
   "source": [
    "def recurso_completo(base, ruta, cuenta, peticion):\n",
    "    try:\n",
    "        candidato = {'Cuenta': int(cuenta)}\n",
    "        peticion = loads(peticion)\n",
    "        if (set(peticion)).issubset(set(orden)):                    \n",
    "            for campo in orden:\n",
    "                if not campos[campo][1] and campo not in peticion:\n",
    "                    candidato[campo] = ''\n",
    "                elif valida(peticion[campo], campo):\n",
    "                    candidato[campo] = peticion[campo]      \n",
    "                else:\n",
    "                    abort(400)\n",
    "        else:\n",
    "            abort(400)\n",
    "    except:\n",
    "        abort(400)\n",
    "    base.append(candidato)\n",
    "    escribe_base(base, ruta)\n",
    "    return jsonify(candidato)"
   ]
  },
  {
   "cell_type": "markdown",
   "metadata": {},
   "source": [
    "## Código del servidor.\n",
    "\n",
    "* El servidor correrá en [localhost:5000/api/](localhost:5000/api/). Si se accede a la raíz, se desplegará un listado de todos los alumnos en formato JSON.\n",
    "* El servidor soporta los métodos:\n",
    "    * **GET**: para obtener la información de un alumno por su número de cuenta.\n",
    "    * **POST**: para crear un registro nuevo.\n",
    "    * **PUT**: para sustituir por completo un registro existente.\n",
    "    * **PATCH**: para modificar ciertos datos de un registro existente.\n",
    "    * **DELETE**: para eliminar un registro existente."
   ]
  },
  {
   "cell_type": "code",
   "execution_count": null,
   "metadata": {
    "scrolled": true
   },
   "outputs": [],
   "source": [
    "app = Flask(__name__)\n",
    "\n",
    "\n",
    "@app.route('/api/', methods=['GET'])\n",
    "def index():\n",
    "    with open(ruta, 'tr') as base:    \n",
    "        return jsonify(eval(base.read()))\n",
    "\n",
    "    \n",
    "@app.route('/api/<cuenta>', methods=['GET', 'POST', 'PUT', 'PATCH', 'DELETE'])\n",
    "def api(cuenta):\n",
    "    \n",
    "    if request.method == 'GET':\n",
    "        base = carga_base(ruta)\n",
    "        alumno = busca_base(cuenta, base)\n",
    "        if alumno:\n",
    "            return jsonify(alumno)\n",
    "        else:\n",
    "            abort(404)\n",
    "            \n",
    "    if request.method == 'DELETE':               \n",
    "        base = carga_base(ruta)\n",
    "        alumno = busca_base(cuenta, base)\n",
    "        if alumno:\n",
    "            base.remove(alumno)\n",
    "            escribe_base(base, ruta)\n",
    "            return jsonify(alumno)\n",
    "        else:\n",
    "            abort(404)\n",
    "        \n",
    "    if request.method == 'POST':\n",
    "        base = carga_base(ruta)\n",
    "        alumno = busca_base(cuenta, base)\n",
    "        if alumno:\n",
    "            abort(409)\n",
    "        else:\n",
    "            return recurso_completo(base, ruta, cuenta, request.data)\n",
    "            \n",
    "    if request.method == 'PUT':\n",
    "        base = carga_base(ruta)\n",
    "        alumno = busca_base(cuenta, base)\n",
    "        if not alumno:\n",
    "            abort(404)\n",
    "        else:\n",
    "            base.remove(alumno)\n",
    "            return recurso_completo(base, ruta, cuenta, request.data)\n",
    "\n",
    "    if request.method == 'PATCH':               \n",
    "        base = carga_base(ruta)\n",
    "        alumno = busca_base(cuenta, base)\n",
    "        if not alumno:\n",
    "            abort(404)\n",
    "        else:\n",
    "            indice = base.index(alumno)\n",
    "            try:\n",
    "                peticion = loads(request.data)\n",
    "                if (set(peticion)).issubset(set(orden)):\n",
    "                    for campo in peticion:\n",
    "                        dato = peticion[campo]\n",
    "                        if valida(dato, campo):\n",
    "                            alumno[campo] = dato\n",
    "                        else:\n",
    "                            abort(400)\n",
    "                else:\n",
    "                    abort(400)\n",
    "            except:\n",
    "                abort(400)\n",
    "            base[indice] = alumno\n",
    "            escribe_base(base, ruta)\n",
    "            return jsonify(alumno)\n",
    "\n",
    "app.run('localhost')"
   ]
  },
  {
   "cell_type": "markdown",
   "metadata": {},
   "source": [
    "### Notas:  \n",
    "* Debido a que el código de la celda de arriba levanta el servidor de Flask, ésta se ejecutará indefinidamente y desplegará los mensajes de respuesta a las peticiones de los clientes que se conecten. \n",
    "* La notebook [12_cliente_api_rest.ipynb](12_cliente_api_rest.ipynb) contiene al cliente para este servidor.\n",
    "* No reinicie o detenga el kernel de la notebook hasta que haya terminado todas las sesiones los clientes."
   ]
  },
  {
   "cell_type": "markdown",
   "metadata": {},
   "source": [
    "<p style=\"text-align: center\"><a rel=\"license\" href=\"http://creativecommons.org/licenses/by/4.0/\"><img alt=\"Licencia Creative Commons\" style=\"border-width:0\" src=\"https://i.creativecommons.org/l/by/4.0/80x15.png\" /></a><br />Esta obra está bajo una <a rel=\"license\" href=\"http://creativecommons.org/licenses/by/4.0/\">Licencia Creative Commons Atribución 4.0 Internacional</a>.</p>\n",
    "<p style=\"text-align: center\">&copy; José Luis Chiquete Valdivieso. 2018.</p>"
   ]
  }
 ],
 "metadata": {
  "kernelspec": {
   "display_name": "Python 3",
   "language": "python",
   "name": "python3"
  },
  "language_info": {
   "codemirror_mode": {
    "name": "ipython",
    "version": 3
   },
   "file_extension": ".py",
   "mimetype": "text/x-python",
   "name": "python",
   "nbconvert_exporter": "python",
   "pygments_lexer": "ipython3",
   "version": "3.6.4"
  }
 },
 "nbformat": 4,
 "nbformat_minor": 2
}
