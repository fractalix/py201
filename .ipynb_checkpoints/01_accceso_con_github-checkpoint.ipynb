{
 "cells": [
  {
   "cell_type": "markdown",
   "metadata": {},
   "source": [
    "[![imagenes](imagenes/pythonista.png)](https://pythonista.io)"
   ]
  },
  {
   "cell_type": "markdown",
   "metadata": {},
   "source": [
    "# Acceso al código del curso con Github.\n",
    "\n",
    "Para acceder a este curso se tomará el código que se encuentra publicado en el sitio de GitHub."
   ]
  },
  {
   "cell_type": "markdown",
   "metadata": {},
   "source": [
    "## Git y GitHub\n",
    "\n",
    "Un sistema de control de versiones (*CVS* por sus siglas en inglés) es una herramienta que permite controlar y compartir archivos (primordialmente código) a fin de facilitar la colaboración de equipos de desarrollo en proyectos específicos.\n",
    "\n",
    "[*Git*](https://git-scm.com/) es quizás el sistema de control de versiones de uso más extendido en la comunidad de desarrolladores. Fue creado por Linus Torvalds con la finalidad inicial de mantener control sobre el código del kernel de Linux, pero en vista de que se trata de código abierto, su fexibilidad y su facilidad de uso ha sido adoptado en infinidad de proyectos.\n",
    "\n",
    "[GitHub](https://github.com/) es un servicio en línea que permite publicar, compartir e incluso derivar (fork) proyectos de forma sencilla mediante el uso de git."
   ]
  },
  {
   "cell_type": "markdown",
   "metadata": {},
   "source": [
    "## Acceso al repositorio de Pythonista.\n",
    "\n",
    "Este curso se encuentra publicado en https://github.com/PythonistaMX/py201.\n",
    "\n",
    "Para acceder a éste es necesario tener instalado un cliente de git.\n",
    "\n",
    "El siguiente comando creará un a copia del  proyecto en el sistema de archivos local."
   ]
  },
  {
   "cell_type": "code",
   "execution_count": null,
   "metadata": {},
   "outputs": [],
   "source": [
    "!git clone https://github.com/PythonistaMX/py201.git"
   ]
  },
  {
   "cell_type": "markdown",
   "metadata": {},
   "source": [
    "<p style=\"text-align: center\"><a rel=\"license\" href=\"http://creativecommons.org/licenses/by/4.0/\"><img alt=\"Licencia Creative Commons\" style=\"border-width:0\" src=\"https://i.creativecommons.org/l/by/4.0/80x15.png\" /></a><br />Esta obra está bajo una <a rel=\"license\" href=\"http://creativecommons.org/licenses/by/4.0/\">Licencia Creative Commons Atribución 4.0 Internacional</a>.</p>\n",
    "<p style=\"text-align: center\">&copy; José Luis Chiquete Valdivieso. 2018.</p>"
   ]
  }
 ],
 "metadata": {
  "kernelspec": {
   "display_name": "Python 3",
   "language": "python",
   "name": "python3"
  },
  "language_info": {
   "codemirror_mode": {
    "name": "ipython",
    "version": 3
   },
   "file_extension": ".py",
   "mimetype": "text/x-python",
   "name": "python",
   "nbconvert_exporter": "python",
   "pygments_lexer": "ipython3",
   "version": "3.6.4"
  }
 },
 "nbformat": 4,
 "nbformat_minor": 2
}
